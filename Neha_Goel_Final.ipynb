{
  "cells": [
    {
      "cell_type": "markdown",
      "metadata": {
        "id": "UbDzVhyUvTMq"
      },
      "source": [
        "**Background**\n",
        "\n",
        "The development and implementation of this recommendation system represent a significant advancement in the ability of e-commerce platforms to provide personalized user experiences. The findings underscore the value of leveraging data-driven insights and sophisticated algorithms to meet the evolving needs of users and maintain a competitive edge in the digital marketplace.\n"
      ]
    },
    {
      "cell_type": "markdown",
      "metadata": {
        "id": "4Uo55--dvt8s"
      },
      "source": [
        "**Introduction to Recommendation systems**\n",
        "\n",
        "\n",
        "A recommendation engine is a system or algorithm that analyzes user data and provides personalized suggestions or recommendations for items or content that the user may be interested in. These recommendations are based on various factors such as the user's preferences, historical behavior, demographic information, and similarities to other users.\n",
        "\n",
        "Recommendation engines are commonly used in e-commerce, OTT plateforms , social media, and other online services to enhance user experience and engagement. They help users discover new products, movies, music, articles, or any other items that align with their interests.\n",
        "\n",
        "Recommeder system creates a similarity between the user and items and exploits the similarity between user/item to make recommendations."
      ]
    },
    {
      "cell_type": "markdown",
      "metadata": {
        "id": "JXoKgSqOvzcZ"
      },
      "source": [
        "**What recommeder system can solve ?**\n",
        "\n",
        "1.  It can help the user to find the right product.\n",
        "2.  It can increase the user engagement. For example, there's 40% more click on the google news due to recommendation.\n",
        "3.  It helps the item providers to deliver the items to the right user.In Amazon , 35 % products get sold due to recommendation.\n",
        "4.  It helps to make the contents more personalized.In Netflix most of the rented movies are from recommendations."
      ]
    },
    {
      "cell_type": "markdown",
      "metadata": {
        "id": "q33Q2w_PwPLg"
      },
      "source": [
        "**Attribute Information:**\n",
        "\n",
        "● userId : Every user identified with a unique id\n",
        "\n",
        "● productId : Every product identified with a unique id\n",
        "\n",
        "● Rating : Rating of the corresponding product by the corresponding user\n",
        "\n",
        "● timestamp : Time of the rating ( ignore this column for this exercise)"
      ]
    },
    {
      "cell_type": "markdown",
      "metadata": {
        "id": "JCYZnXzQFfp-"
      },
      "source": [
        "<h1><b><u>Step2 - Data preprocessing</u></b></h1>"
      ]
    },
    {
      "cell_type": "markdown",
      "metadata": {
        "id": "NjsQnuBzysl6"
      },
      "source": [
        "<h1>Importing Libraries</h1>"
      ]
    },
    {
      "cell_type": "code",
      "execution_count": 51,
      "metadata": {
        "id": "42mVtzaPsh7q"
      },
      "outputs": [],
      "source": [
        "import pandas as pd\n",
        "import numpy as np\n",
        "import seaborn as sns\n",
        "from matplotlib import pyplot as plt\n",
        "import warnings\n",
        "import os\n",
        "import importlib\n",
        "warnings.filterwarnings('ignore')\n",
        "sns.set_theme(color_codes=True)"
      ]
    },
    {
      "cell_type": "code",
      "execution_count": 52,
      "metadata": {
        "id": "2giNCVArwc4c"
      },
      "outputs": [],
      "source": [
        "# user-defined function to check library is installed or not, if not installed then it will install automatically at runtime.\n",
        "def check_and_install_library(library_name):\n",
        "    try:\n",
        "        importlib.import_module(library_name)\n",
        "        print(f\"{library_name} is already installed.\")\n",
        "    except ImportError:\n",
        "        print(f\"{library_name} is not installed. Installing...\")\n",
        "        try:\n",
        "            import pip\n",
        "            pip.main(['install', library_name])\n",
        "        except:\n",
        "            print(\"Error: Failed to install the library. Please install it manually.\")"
      ]
    },
    {
      "cell_type": "markdown",
      "metadata": {
        "id": "xSKmgGxey84D"
      },
      "source": [
        "<h1>Importing Dataset</h1>"
      ]
    },
    {
      "cell_type": "code",
      "execution_count": 53,
      "metadata": {
        "id": "qwwMZsgkwk3J"
      },
      "outputs": [],
      "source": [
        "#load the dataframe and set column name\n",
        "electronics_data=pd.read_csv('ratings_Electronics.csv',names=['userId', 'productId','rating','timestamp'])"
      ]
    },
    {
      "cell_type": "code",
      "execution_count": 54,
      "metadata": {
        "colab": {
          "base_uri": "https://localhost:8080/"
        },
        "id": "gEUGrRInw5MT",
        "outputId": "48c4e3d3-5a42-424f-c228-a3f92539b4dd"
      },
      "outputs": [
        {
          "data": {
            "text/plain": [
              "(7824482, 4)"
            ]
          },
          "execution_count": 54,
          "metadata": {},
          "output_type": "execute_result"
        }
      ],
      "source": [
        "electronics_data.shape"
      ]
    },
    {
      "cell_type": "code",
      "execution_count": 55,
      "metadata": {
        "colab": {
          "base_uri": "https://localhost:8080/"
        },
        "id": "1bYZEdGAw6Af",
        "outputId": "762dca95-9b6e-43e8-9ca7-bb5b4439d65b"
      },
      "outputs": [
        {
          "data": {
            "text/plain": [
              "Index(['userId', 'productId', 'rating', 'timestamp'], dtype='object')"
            ]
          },
          "execution_count": 55,
          "metadata": {},
          "output_type": "execute_result"
        }
      ],
      "source": [
        "electronics_data.columns"
      ]
    },
    {
      "cell_type": "markdown",
      "metadata": {
        "id": "oP1Mz0-MzDDi"
      },
      "source": [
        "<h1>Printing Dataset</h1>"
      ]
    },
    {
      "cell_type": "code",
      "execution_count": 56,
      "metadata": {
        "colab": {
          "base_uri": "https://localhost:8080/",
          "height": 206
        },
        "id": "WUcHWTg8w9eK",
        "outputId": "e528a64f-6961-4c71-d604-9d122de78039"
      },
      "outputs": [
        {
          "data": {
            "text/html": [
              "<div>\n",
              "<style scoped>\n",
              "    .dataframe tbody tr th:only-of-type {\n",
              "        vertical-align: middle;\n",
              "    }\n",
              "\n",
              "    .dataframe tbody tr th {\n",
              "        vertical-align: top;\n",
              "    }\n",
              "\n",
              "    .dataframe thead th {\n",
              "        text-align: right;\n",
              "    }\n",
              "</style>\n",
              "<table border=\"1\" class=\"dataframe\">\n",
              "  <thead>\n",
              "    <tr style=\"text-align: right;\">\n",
              "      <th></th>\n",
              "      <th>userId</th>\n",
              "      <th>productId</th>\n",
              "      <th>rating</th>\n",
              "      <th>timestamp</th>\n",
              "    </tr>\n",
              "  </thead>\n",
              "  <tbody>\n",
              "    <tr>\n",
              "      <th>0</th>\n",
              "      <td>AKM1MP6P0OYPR</td>\n",
              "      <td>0132793040</td>\n",
              "      <td>5.0</td>\n",
              "      <td>1365811200</td>\n",
              "    </tr>\n",
              "    <tr>\n",
              "      <th>1</th>\n",
              "      <td>A2CX7LUOHB2NDG</td>\n",
              "      <td>0321732944</td>\n",
              "      <td>5.0</td>\n",
              "      <td>1341100800</td>\n",
              "    </tr>\n",
              "    <tr>\n",
              "      <th>2</th>\n",
              "      <td>A2NWSAGRHCP8N5</td>\n",
              "      <td>0439886341</td>\n",
              "      <td>1.0</td>\n",
              "      <td>1367193600</td>\n",
              "    </tr>\n",
              "    <tr>\n",
              "      <th>3</th>\n",
              "      <td>A2WNBOD3WNDNKT</td>\n",
              "      <td>0439886341</td>\n",
              "      <td>3.0</td>\n",
              "      <td>1374451200</td>\n",
              "    </tr>\n",
              "    <tr>\n",
              "      <th>4</th>\n",
              "      <td>A1GI0U4ZRJA8WN</td>\n",
              "      <td>0439886341</td>\n",
              "      <td>1.0</td>\n",
              "      <td>1334707200</td>\n",
              "    </tr>\n",
              "  </tbody>\n",
              "</table>\n",
              "</div>"
            ],
            "text/plain": [
              "           userId   productId  rating   timestamp\n",
              "0   AKM1MP6P0OYPR  0132793040     5.0  1365811200\n",
              "1  A2CX7LUOHB2NDG  0321732944     5.0  1341100800\n",
              "2  A2NWSAGRHCP8N5  0439886341     1.0  1367193600\n",
              "3  A2WNBOD3WNDNKT  0439886341     3.0  1374451200\n",
              "4  A1GI0U4ZRJA8WN  0439886341     1.0  1334707200"
            ]
          },
          "execution_count": 56,
          "metadata": {},
          "output_type": "execute_result"
        }
      ],
      "source": [
        "#print top 5 records of the dataset\n",
        "electronics_data.head()"
      ]
    },
    {
      "cell_type": "markdown",
      "metadata": {
        "id": "4Qq9is-1zO3g"
      },
      "source": [
        "<h1>Data Cleaning</h1>"
      ]
    },
    {
      "cell_type": "code",
      "execution_count": 57,
      "metadata": {
        "colab": {
          "base_uri": "https://localhost:8080/",
          "height": 210
        },
        "id": "Shmtyj-jxhyd",
        "outputId": "9193ff43-ebca-499b-f347-58e853eba8b8"
      },
      "outputs": [
        {
          "data": {
            "text/plain": [
              "userId       0\n",
              "productId    0\n",
              "rating       0\n",
              "timestamp    0\n",
              "dtype: int64"
            ]
          },
          "execution_count": 57,
          "metadata": {},
          "output_type": "execute_result"
        }
      ],
      "source": [
        "#handle missing values\n",
        "electronics_data.isnull().sum()"
      ]
    },
    {
      "cell_type": "code",
      "execution_count": 58,
      "metadata": {
        "colab": {
          "base_uri": "https://localhost:8080/"
        },
        "id": "fpjZPnsfxktA",
        "outputId": "afaa0fb6-2416-4efc-a53d-cd71e7472a18"
      },
      "outputs": [
        {
          "data": {
            "text/plain": [
              "0"
            ]
          },
          "execution_count": 58,
          "metadata": {},
          "output_type": "execute_result"
        }
      ],
      "source": [
        "#handling duplicate records\n",
        "electronics_data[electronics_data.duplicated()].shape[0]"
      ]
    },
    {
      "cell_type": "code",
      "execution_count": 59,
      "metadata": {
        "colab": {
          "base_uri": "https://localhost:8080/",
          "height": 206
        },
        "id": "HdggRzpoxnvs",
        "outputId": "eddbf592-7a5d-497c-a1c2-6b529b16cff1"
      },
      "outputs": [
        {
          "data": {
            "text/html": [
              "<div>\n",
              "<style scoped>\n",
              "    .dataframe tbody tr th:only-of-type {\n",
              "        vertical-align: middle;\n",
              "    }\n",
              "\n",
              "    .dataframe tbody tr th {\n",
              "        vertical-align: top;\n",
              "    }\n",
              "\n",
              "    .dataframe thead th {\n",
              "        text-align: right;\n",
              "    }\n",
              "</style>\n",
              "<table border=\"1\" class=\"dataframe\">\n",
              "  <thead>\n",
              "    <tr style=\"text-align: right;\">\n",
              "      <th></th>\n",
              "      <th>userId</th>\n",
              "      <th>productId</th>\n",
              "      <th>rating</th>\n",
              "      <th>timestamp</th>\n",
              "    </tr>\n",
              "  </thead>\n",
              "  <tbody>\n",
              "    <tr>\n",
              "      <th>0</th>\n",
              "      <td>AKM1MP6P0OYPR</td>\n",
              "      <td>0132793040</td>\n",
              "      <td>5.0</td>\n",
              "      <td>1365811200</td>\n",
              "    </tr>\n",
              "    <tr>\n",
              "      <th>1</th>\n",
              "      <td>A2CX7LUOHB2NDG</td>\n",
              "      <td>0321732944</td>\n",
              "      <td>5.0</td>\n",
              "      <td>1341100800</td>\n",
              "    </tr>\n",
              "    <tr>\n",
              "      <th>2</th>\n",
              "      <td>A2NWSAGRHCP8N5</td>\n",
              "      <td>0439886341</td>\n",
              "      <td>1.0</td>\n",
              "      <td>1367193600</td>\n",
              "    </tr>\n",
              "    <tr>\n",
              "      <th>3</th>\n",
              "      <td>A2WNBOD3WNDNKT</td>\n",
              "      <td>0439886341</td>\n",
              "      <td>3.0</td>\n",
              "      <td>1374451200</td>\n",
              "    </tr>\n",
              "    <tr>\n",
              "      <th>4</th>\n",
              "      <td>A1GI0U4ZRJA8WN</td>\n",
              "      <td>0439886341</td>\n",
              "      <td>1.0</td>\n",
              "      <td>1334707200</td>\n",
              "    </tr>\n",
              "  </tbody>\n",
              "</table>\n",
              "</div>"
            ],
            "text/plain": [
              "           userId   productId  rating   timestamp\n",
              "0   AKM1MP6P0OYPR  0132793040     5.0  1365811200\n",
              "1  A2CX7LUOHB2NDG  0321732944     5.0  1341100800\n",
              "2  A2NWSAGRHCP8N5  0439886341     1.0  1367193600\n",
              "3  A2WNBOD3WNDNKT  0439886341     3.0  1374451200\n",
              "4  A1GI0U4ZRJA8WN  0439886341     1.0  1334707200"
            ]
          },
          "execution_count": 59,
          "metadata": {},
          "output_type": "execute_result"
        }
      ],
      "source": [
        "electronics_data.head()"
      ]
    },
    {
      "cell_type": "markdown",
      "metadata": {
        "id": "RcDK8NUyFTlF"
      },
      "source": [
        "<h1><b><u>Step3 - Exploratory Data Analysis (EDA)</u></b></h1>"
      ]
    },
    {
      "cell_type": "markdown",
      "metadata": {
        "id": "QSh0B7L40Kbp"
      },
      "source": [
        "<h1>Information of Dataset</h1>"
      ]
    },
    {
      "cell_type": "code",
      "execution_count": 60,
      "metadata": {
        "colab": {
          "base_uri": "https://localhost:8080/"
        },
        "id": "oDTqO8TSzl27",
        "outputId": "f89fa454-e84f-43fd-e9c6-c46c9a8061fd"
      },
      "outputs": [
        {
          "name": "stdout",
          "output_type": "stream",
          "text": [
            "<class 'pandas.core.frame.DataFrame'>\n",
            "RangeIndex: 7824482 entries, 0 to 7824481\n",
            "Data columns (total 4 columns):\n",
            " #   Column     Dtype  \n",
            "---  ------     -----  \n",
            " 0   userId     object \n",
            " 1   productId  object \n",
            " 2   rating     float64\n",
            " 3   timestamp  int64  \n",
            "dtypes: float64(1), int64(1), object(2)\n",
            "memory usage: 238.8+ MB\n"
          ]
        }
      ],
      "source": [
        "#print the concise information of the dataset\n",
        "electronics_data.info()"
      ]
    },
    {
      "cell_type": "code",
      "execution_count": 61,
      "metadata": {
        "id": "4QdR4qB6zsAR"
      },
      "outputs": [],
      "source": [
        "#drop timestamp column\n",
        "electronics_data.drop('timestamp',axis=1,inplace=True)"
      ]
    },
    {
      "cell_type": "markdown",
      "metadata": {
        "id": "DUbyYmWB0UZH"
      },
      "source": [
        "<h1>Numerical summary of Dataset</h1>"
      ]
    },
    {
      "cell_type": "code",
      "execution_count": 62,
      "metadata": {
        "colab": {
          "base_uri": "https://localhost:8080/",
          "height": 301
        },
        "id": "xM_8zMkMzw6u",
        "outputId": "cf1e075b-0f23-4f08-d912-27ed4262fdff"
      },
      "outputs": [
        {
          "data": {
            "text/html": [
              "<div>\n",
              "<style scoped>\n",
              "    .dataframe tbody tr th:only-of-type {\n",
              "        vertical-align: middle;\n",
              "    }\n",
              "\n",
              "    .dataframe tbody tr th {\n",
              "        vertical-align: top;\n",
              "    }\n",
              "\n",
              "    .dataframe thead th {\n",
              "        text-align: right;\n",
              "    }\n",
              "</style>\n",
              "<table border=\"1\" class=\"dataframe\">\n",
              "  <thead>\n",
              "    <tr style=\"text-align: right;\">\n",
              "      <th></th>\n",
              "      <th>rating</th>\n",
              "    </tr>\n",
              "  </thead>\n",
              "  <tbody>\n",
              "    <tr>\n",
              "      <th>count</th>\n",
              "      <td>7.824482e+06</td>\n",
              "    </tr>\n",
              "    <tr>\n",
              "      <th>mean</th>\n",
              "      <td>4.012337e+00</td>\n",
              "    </tr>\n",
              "    <tr>\n",
              "      <th>std</th>\n",
              "      <td>1.380910e+00</td>\n",
              "    </tr>\n",
              "    <tr>\n",
              "      <th>min</th>\n",
              "      <td>1.000000e+00</td>\n",
              "    </tr>\n",
              "    <tr>\n",
              "      <th>25%</th>\n",
              "      <td>3.000000e+00</td>\n",
              "    </tr>\n",
              "    <tr>\n",
              "      <th>50%</th>\n",
              "      <td>5.000000e+00</td>\n",
              "    </tr>\n",
              "    <tr>\n",
              "      <th>75%</th>\n",
              "      <td>5.000000e+00</td>\n",
              "    </tr>\n",
              "    <tr>\n",
              "      <th>max</th>\n",
              "      <td>5.000000e+00</td>\n",
              "    </tr>\n",
              "  </tbody>\n",
              "</table>\n",
              "</div>"
            ],
            "text/plain": [
              "             rating\n",
              "count  7.824482e+06\n",
              "mean   4.012337e+00\n",
              "std    1.380910e+00\n",
              "min    1.000000e+00\n",
              "25%    3.000000e+00\n",
              "50%    5.000000e+00\n",
              "75%    5.000000e+00\n",
              "max    5.000000e+00"
            ]
          },
          "execution_count": 62,
          "metadata": {},
          "output_type": "execute_result"
        }
      ],
      "source": [
        "electronics_data.describe()"
      ]
    },
    {
      "cell_type": "markdown",
      "metadata": {
        "id": "do-rhtGaz5Ez"
      },
      "source": [
        "As we can see minimum rating of the products is 1 , maximum rating is 5 and average rating of the products is around 4."
      ]
    },
    {
      "cell_type": "markdown",
      "metadata": {
        "id": "lBgoVWtm0Y3r"
      },
      "source": [
        "<h1>Graphical summary of Dataset</h1>"
      ]
    },
    {
      "cell_type": "code",
      "execution_count": 63,
      "metadata": {
        "colab": {
          "base_uri": "https://localhost:8080/",
          "height": 419
        },
        "id": "qHocoLf3xr_1",
        "outputId": "f290b65d-3a8c-49fd-8138-9e45806b5c47"
      },
      "outputs": [
        {
          "data": {
            "image/png": "[encoded data removed]",
            "text/plain": [
              "<Figure size 800x400 with 1 Axes>"
            ]
          },
          "metadata": {},
          "output_type": "display_data"
        }
      ],
      "source": [
        "plt.figure(figsize=(8,4))\n",
        "sns.countplot(x='rating',data=electronics_data)\n",
        "plt.title('Rating Distribution')\n",
        "plt.xlabel('Rating')\n",
        "plt.ylabel('Count')\n",
        "plt.grid()\n",
        "plt.show()"
      ]
    },
    {
      "cell_type": "markdown",
      "metadata": {
        "id": "OnRl3M0Hx0VY"
      },
      "source": [
        "most of the user have given 5 rating"
      ]
    },
    {
      "cell_type": "code",
      "execution_count": 64,
      "metadata": {
        "colab": {
          "base_uri": "https://localhost:8080/"
        },
        "id": "xiheXMKbx2-V",
        "outputId": "86edc679-16e7-488c-a9c5-26d4ca60b038"
      },
      "outputs": [
        {
          "name": "stdout",
          "output_type": "stream",
          "text": [
            "Total rating :  7824482\n",
            "Total unique users :  4201696\n",
            "Total unique products :  476002\n"
          ]
        }
      ],
      "source": [
        "print('Total rating : ',electronics_data.shape[0])\n",
        "print('Total unique users : ',electronics_data['userId'].unique().shape[0])\n",
        "print('Total unique products : ',electronics_data['productId'].unique().shape[0])"
      ]
    },
    {
      "cell_type": "markdown",
      "metadata": {
        "id": "stvvvMfsyHCl"
      },
      "source": [
        "analyzing the rating by user"
      ]
    },
    {
      "cell_type": "code",
      "execution_count": 65,
      "metadata": {
        "colab": {
          "base_uri": "https://localhost:8080/",
          "height": 273
        },
        "id": "mCuyNTshyJf1",
        "outputId": "6a209fe7-7b9e-49c8-91ab-6c8cd5b01793"
      },
      "outputs": [
        {
          "data": {
            "text/plain": [
              "userId\n",
              "A5JLAU2ARJ0BO     520\n",
              "ADLVFFE4VBT8      501\n",
              "A3OXHLG6DIBRW8    498\n",
              "A6FIAB28IS79      431\n",
              "A680RUE1FDO8B     406\n",
              "Name: rating, dtype: int64"
            ]
          },
          "execution_count": 65,
          "metadata": {},
          "output_type": "execute_result"
        }
      ],
      "source": [
        "no_of_rated_products_per_user = electronics_data.groupby(by='userId')['rating'].count().sort_values(ascending=False)\n",
        "no_of_rated_products_per_user.head()"
      ]
    },
    {
      "cell_type": "code",
      "execution_count": 66,
      "metadata": {
        "colab": {
          "base_uri": "https://localhost:8080/"
        },
        "id": "rxUbc4A5yPEg",
        "outputId": "736730ac-b187-4acd-e942-ae05eb7eb77e"
      },
      "outputs": [
        {
          "name": "stdout",
          "output_type": "stream",
          "text": [
            "No of rated product more than 50 per user : 1540 \n"
          ]
        }
      ],
      "source": [
        "print('No of rated product more than 50 per user : {} '.format(sum(no_of_rated_products_per_user >= 50)))"
      ]
    },
    {
      "cell_type": "markdown",
      "metadata": {
        "id": "aYSpadlpFAa7"
      },
      "source": [
        "<h1><b><u>Step4 - Train test split</u></b></h1>"
      ]
    },
    {
      "cell_type": "code",
      "execution_count": 67,
      "metadata": {
        "id": "ZkSp10RGD27R"
      },
      "outputs": [],
      "source": [
        "from sklearn.model_selection import train_test_split\n"
      ]
    },
    {
      "cell_type": "code",
      "execution_count": 68,
      "metadata": {
        "id": "wpcL1XdrDfyP"
      },
      "outputs": [],
      "source": [
        "#Splitting surprise the dataset into 80,20 ratio using train_test_split\n",
        "trainset, testset = train_test_split(electronics_data, test_size=0.2,random_state=42)"
      ]
    },
    {
      "cell_type": "code",
      "execution_count": 69,
      "metadata": {
        "colab": {
          "base_uri": "https://localhost:8080/"
        },
        "id": "BRbZxEPuEhbl",
        "outputId": "b68282b3-2b21-41eb-e3d3-b00a02070e47"
      },
      "outputs": [
        {
          "name": "stdout",
          "output_type": "stream",
          "text": [
            "Total Data -  (7824482, 3)\n",
            "Total Trainset -  (6259585, 3)\n",
            "Total Testset -  (1564897, 3)\n"
          ]
        }
      ],
      "source": [
        "print(\"Total Data - \",electronics_data.shape)\n",
        "print(\"Total Trainset - \",trainset.shape)\n",
        "print(\"Total Testset - \",testset.shape)"
      ]
    },
    {
      "cell_type": "code",
      "execution_count": 70,
      "metadata": {
        "colab": {
          "base_uri": "https://localhost:8080/",
          "height": 206
        },
        "id": "j82HoLncEEZR",
        "outputId": "c59033cf-8bc9-4c6a-cd2c-7c431ce154e8"
      },
      "outputs": [
        {
          "data": {
            "text/html": [
              "<div>\n",
              "<style scoped>\n",
              "    .dataframe tbody tr th:only-of-type {\n",
              "        vertical-align: middle;\n",
              "    }\n",
              "\n",
              "    .dataframe tbody tr th {\n",
              "        vertical-align: top;\n",
              "    }\n",
              "\n",
              "    .dataframe thead th {\n",
              "        text-align: right;\n",
              "    }\n",
              "</style>\n",
              "<table border=\"1\" class=\"dataframe\">\n",
              "  <thead>\n",
              "    <tr style=\"text-align: right;\">\n",
              "      <th></th>\n",
              "      <th>userId</th>\n",
              "      <th>productId</th>\n",
              "      <th>rating</th>\n",
              "    </tr>\n",
              "  </thead>\n",
              "  <tbody>\n",
              "    <tr>\n",
              "      <th>6194285</th>\n",
              "      <td>A77RBOGEVJ0LH</td>\n",
              "      <td>B008EGUIXQ</td>\n",
              "      <td>5.0</td>\n",
              "    </tr>\n",
              "    <tr>\n",
              "      <th>157162</th>\n",
              "      <td>A1JMDUJL19G3QO</td>\n",
              "      <td>B000067SOH</td>\n",
              "      <td>4.0</td>\n",
              "    </tr>\n",
              "    <tr>\n",
              "      <th>2708902</th>\n",
              "      <td>A1JNFS3IZ1XIXN</td>\n",
              "      <td>B002MAPS6W</td>\n",
              "      <td>5.0</td>\n",
              "    </tr>\n",
              "    <tr>\n",
              "      <th>2689500</th>\n",
              "      <td>A2L6GA5H674R3F</td>\n",
              "      <td>B002LK2QJK</td>\n",
              "      <td>4.0</td>\n",
              "    </tr>\n",
              "    <tr>\n",
              "      <th>3325115</th>\n",
              "      <td>A1Z5AREHVF8ERM</td>\n",
              "      <td>B003EVITCS</td>\n",
              "      <td>5.0</td>\n",
              "    </tr>\n",
              "  </tbody>\n",
              "</table>\n",
              "</div>"
            ],
            "text/plain": [
              "                 userId   productId  rating\n",
              "6194285   A77RBOGEVJ0LH  B008EGUIXQ     5.0\n",
              "157162   A1JMDUJL19G3QO  B000067SOH     4.0\n",
              "2708902  A1JNFS3IZ1XIXN  B002MAPS6W     5.0\n",
              "2689500  A2L6GA5H674R3F  B002LK2QJK     4.0\n",
              "3325115  A1Z5AREHVF8ERM  B003EVITCS     5.0"
            ]
          },
          "execution_count": 70,
          "metadata": {},
          "output_type": "execute_result"
        }
      ],
      "source": [
        "trainset.head()"
      ]
    },
    {
      "cell_type": "code",
      "execution_count": 71,
      "metadata": {
        "colab": {
          "base_uri": "https://localhost:8080/",
          "height": 206
        },
        "id": "SpcdKJ8JEDbz",
        "outputId": "e9815291-27ac-4d42-ac9f-3dbe6a181b71"
      },
      "outputs": [
        {
          "data": {
            "text/html": [
              "<div>\n",
              "<style scoped>\n",
              "    .dataframe tbody tr th:only-of-type {\n",
              "        vertical-align: middle;\n",
              "    }\n",
              "\n",
              "    .dataframe tbody tr th {\n",
              "        vertical-align: top;\n",
              "    }\n",
              "\n",
              "    .dataframe thead th {\n",
              "        text-align: right;\n",
              "    }\n",
              "</style>\n",
              "<table border=\"1\" class=\"dataframe\">\n",
              "  <thead>\n",
              "    <tr style=\"text-align: right;\">\n",
              "      <th></th>\n",
              "      <th>userId</th>\n",
              "      <th>productId</th>\n",
              "      <th>rating</th>\n",
              "    </tr>\n",
              "  </thead>\n",
              "  <tbody>\n",
              "    <tr>\n",
              "      <th>1157290</th>\n",
              "      <td>A1Z3YJF1S8Z1M3</td>\n",
              "      <td>B000M9ISQ2</td>\n",
              "      <td>5.0</td>\n",
              "    </tr>\n",
              "    <tr>\n",
              "      <th>2677500</th>\n",
              "      <td>ALDXDYEGKB27G</td>\n",
              "      <td>B002L6HE9G</td>\n",
              "      <td>4.0</td>\n",
              "    </tr>\n",
              "    <tr>\n",
              "      <th>5814180</th>\n",
              "      <td>A15LOGO6NBSI6B</td>\n",
              "      <td>B007MXGG5Q</td>\n",
              "      <td>5.0</td>\n",
              "    </tr>\n",
              "    <tr>\n",
              "      <th>6239751</th>\n",
              "      <td>A23LX12CA3G4FG</td>\n",
              "      <td>B008HOEDYU</td>\n",
              "      <td>1.0</td>\n",
              "    </tr>\n",
              "    <tr>\n",
              "      <th>5344316</th>\n",
              "      <td>A3TV7QFYXAG130</td>\n",
              "      <td>B0069R7TAM</td>\n",
              "      <td>5.0</td>\n",
              "    </tr>\n",
              "  </tbody>\n",
              "</table>\n",
              "</div>"
            ],
            "text/plain": [
              "                 userId   productId  rating\n",
              "1157290  A1Z3YJF1S8Z1M3  B000M9ISQ2     5.0\n",
              "2677500   ALDXDYEGKB27G  B002L6HE9G     4.0\n",
              "5814180  A15LOGO6NBSI6B  B007MXGG5Q     5.0\n",
              "6239751  A23LX12CA3G4FG  B008HOEDYU     1.0\n",
              "5344316  A3TV7QFYXAG130  B0069R7TAM     5.0"
            ]
          },
          "execution_count": 71,
          "metadata": {},
          "output_type": "execute_result"
        }
      ],
      "source": [
        "testset.head()"
      ]
    },
    {
      "cell_type": "markdown",
      "metadata": {
        "id": "7oZSn0sflpRI"
      },
      "source": [
        "<h1><b><u>Step5 - Selecting and evaluating the Recommendation Algorithm</u></b></h1>"
      ]
    },
    {
      "cell_type": "markdown",
      "metadata": {
        "id": "I605waoQmxhe"
      },
      "source": [
        "**Types of recommendations**\n",
        "\n",
        "There are mainly 6 types of the recommendations systems :-\n",
        "\n",
        "1.  Popularity based systems :- It works by recommeding items viewed and purchased by most people and are rated high.It is not a personalized recommendation.\n",
        "2.  Classification model based:- It works by understanding the features of the user and applying the classification algorithm to decide whether the user is interested or not in the product.\n",
        "3. Content based recommedations:- It is based on the information on the contents of the item rather than on the user opinions.The main idea is if the user likes an item then he or she will like the \"other\" similar item.\n",
        "4. Collaberative Filtering:- It is based on the assumption that people like things similar to other things they like, and things that are liked by other people with similar tastes.\n",
        "\n",
        "5. Hybrid Approaches:- This system approach is to combine collaborative filtering, content-based filtering, and other approaches .\n",
        "\n",
        "6. Association rule mining :- Association rules capture the relationships between items based on their patterns of co-occurrence across transactions\n"
      ]
    },
    {
      "cell_type": "markdown",
      "metadata": {
        "id": "VD9DWfDrlhOr"
      },
      "source": [
        "**Popularity Based Recommendation**\n",
        "\n",
        "Popularity based recommendation system works with the trend. It basically uses the items which are in trend right now. For example, if any product which is usually bought by every new user then there are chances that it may suggest that item to the user who just signed up.\n",
        "\n",
        "The problems with popularity based recommendation system is that the personalization is not available with this method i.e. even though you know the behaviour of the user but you cannot recommend items accordingly."
      ]
    },
    {
      "cell_type": "code",
      "execution_count": 72,
      "metadata": {
        "id": "c-79MNC8nGq9"
      },
      "outputs": [],
      "source": [
        "data=electronics_data.groupby('productId').filter(lambda x:x['rating'].count()>=50)"
      ]
    },
    {
      "cell_type": "code",
      "execution_count": 73,
      "metadata": {
        "colab": {
          "base_uri": "https://localhost:8080/",
          "height": 206
        },
        "id": "tdS9-rFCnJrA",
        "outputId": "e150bf86-04a4-4f8a-ed9d-a79d33ace9ea"
      },
      "outputs": [
        {
          "data": {
            "text/html": [
              "<div>\n",
              "<style scoped>\n",
              "    .dataframe tbody tr th:only-of-type {\n",
              "        vertical-align: middle;\n",
              "    }\n",
              "\n",
              "    .dataframe tbody tr th {\n",
              "        vertical-align: top;\n",
              "    }\n",
              "\n",
              "    .dataframe thead th {\n",
              "        text-align: right;\n",
              "    }\n",
              "</style>\n",
              "<table border=\"1\" class=\"dataframe\">\n",
              "  <thead>\n",
              "    <tr style=\"text-align: right;\">\n",
              "      <th></th>\n",
              "      <th>userId</th>\n",
              "      <th>productId</th>\n",
              "      <th>rating</th>\n",
              "    </tr>\n",
              "  </thead>\n",
              "  <tbody>\n",
              "    <tr>\n",
              "      <th>183</th>\n",
              "      <td>A1BKC6B7YHYTVV</td>\n",
              "      <td>0972683275</td>\n",
              "      <td>4.0</td>\n",
              "    </tr>\n",
              "    <tr>\n",
              "      <th>184</th>\n",
              "      <td>AWVFSIB42LHKJ</td>\n",
              "      <td>0972683275</td>\n",
              "      <td>4.0</td>\n",
              "    </tr>\n",
              "    <tr>\n",
              "      <th>185</th>\n",
              "      <td>A36MQBNADRH8YY</td>\n",
              "      <td>0972683275</td>\n",
              "      <td>5.0</td>\n",
              "    </tr>\n",
              "    <tr>\n",
              "      <th>186</th>\n",
              "      <td>A3SRXMPLAEZ6DP</td>\n",
              "      <td>0972683275</td>\n",
              "      <td>4.0</td>\n",
              "    </tr>\n",
              "    <tr>\n",
              "      <th>187</th>\n",
              "      <td>A20XXTXWF2TCPY</td>\n",
              "      <td>0972683275</td>\n",
              "      <td>5.0</td>\n",
              "    </tr>\n",
              "  </tbody>\n",
              "</table>\n",
              "</div>"
            ],
            "text/plain": [
              "             userId   productId  rating\n",
              "183  A1BKC6B7YHYTVV  0972683275     4.0\n",
              "184   AWVFSIB42LHKJ  0972683275     4.0\n",
              "185  A36MQBNADRH8YY  0972683275     5.0\n",
              "186  A3SRXMPLAEZ6DP  0972683275     4.0\n",
              "187  A20XXTXWF2TCPY  0972683275     5.0"
            ]
          },
          "execution_count": 73,
          "metadata": {},
          "output_type": "execute_result"
        }
      ],
      "source": [
        "data.head()"
      ]
    },
    {
      "cell_type": "code",
      "execution_count": 74,
      "metadata": {
        "id": "aEp_HOlbnNLO"
      },
      "outputs": [],
      "source": [
        "no_of_rating_per_product=data.groupby('productId')['rating'].count().sort_values(ascending=False)"
      ]
    },
    {
      "cell_type": "code",
      "execution_count": 75,
      "metadata": {
        "colab": {
          "base_uri": "https://localhost:8080/",
          "height": 273
        },
        "id": "ucLrQTf3nP_u",
        "outputId": "c01f4cae-e978-464f-b1fa-ea75c531672b"
      },
      "outputs": [
        {
          "data": {
            "text/plain": [
              "productId\n",
              "B0074BW614    18244\n",
              "B00DR0PDNE    16454\n",
              "B007WTAJTO    14172\n",
              "B0019EHU8G    12285\n",
              "B006GWO5WK    12226\n",
              "Name: rating, dtype: int64"
            ]
          },
          "execution_count": 75,
          "metadata": {},
          "output_type": "execute_result"
        }
      ],
      "source": [
        "no_of_rating_per_product.head()"
      ]
    },
    {
      "cell_type": "code",
      "execution_count": 76,
      "metadata": {
        "colab": {
          "base_uri": "https://localhost:8080/",
          "height": 578
        },
        "id": "FV8S_3AfnSp5",
        "outputId": "08c581bb-8937-4541-d56e-ccc9e273bdc0"
      },
      "outputs": [
        {
          "data": {
            "image/png": "[encoded data removed]",
            "text/plain": [
              "<Figure size 640x480 with 1 Axes>"
            ]
          },
          "metadata": {},
          "output_type": "display_data"
        }
      ],
      "source": [
        "#top 20 product\n",
        "no_of_rating_per_product.head(20).plot(kind='bar')\n",
        "plt.xlabel('Product ID')\n",
        "plt.ylabel('num of rating')\n",
        "plt.title('top 20 procduct')\n",
        "plt.show()"
      ]
    },
    {
      "cell_type": "markdown",
      "metadata": {
        "id": "BXAo5Opapjlq"
      },
      "source": [
        "Analysis:\n",
        "\n",
        "The above graph gives us the most popular products (arranged in descending order) sold by the business.\n",
        "\n",
        "For example, product, ID # B0074BW614 has sales of over 18244, the next most popular product, ID # B00DR0PDNE has sales of 16454, etc."
      ]
    },
    {
      "cell_type": "code",
      "execution_count": 77,
      "metadata": {
        "id": "KOOraPknnVb5"
      },
      "outputs": [],
      "source": [
        "#average rating product\n",
        "mean_rating_product_count=pd.DataFrame(data.groupby('productId')['rating'].mean())"
      ]
    },
    {
      "cell_type": "code",
      "execution_count": 78,
      "metadata": {
        "colab": {
          "base_uri": "https://localhost:8080/",
          "height": 238
        },
        "id": "hRVRqKEYnXje",
        "outputId": "01dd54f9-8aa8-48d6-cf8d-3b4d75dcd0f9"
      },
      "outputs": [
        {
          "data": {
            "text/html": [
              "<div>\n",
              "<style scoped>\n",
              "    .dataframe tbody tr th:only-of-type {\n",
              "        vertical-align: middle;\n",
              "    }\n",
              "\n",
              "    .dataframe tbody tr th {\n",
              "        vertical-align: top;\n",
              "    }\n",
              "\n",
              "    .dataframe thead th {\n",
              "        text-align: right;\n",
              "    }\n",
              "</style>\n",
              "<table border=\"1\" class=\"dataframe\">\n",
              "  <thead>\n",
              "    <tr style=\"text-align: right;\">\n",
              "      <th></th>\n",
              "      <th>rating</th>\n",
              "    </tr>\n",
              "    <tr>\n",
              "      <th>productId</th>\n",
              "      <th></th>\n",
              "    </tr>\n",
              "  </thead>\n",
              "  <tbody>\n",
              "    <tr>\n",
              "      <th>0972683275</th>\n",
              "      <td>4.470980</td>\n",
              "    </tr>\n",
              "    <tr>\n",
              "      <th>1400501466</th>\n",
              "      <td>3.560000</td>\n",
              "    </tr>\n",
              "    <tr>\n",
              "      <th>1400501520</th>\n",
              "      <td>4.243902</td>\n",
              "    </tr>\n",
              "    <tr>\n",
              "      <th>1400501776</th>\n",
              "      <td>3.884892</td>\n",
              "    </tr>\n",
              "    <tr>\n",
              "      <th>1400532620</th>\n",
              "      <td>3.684211</td>\n",
              "    </tr>\n",
              "  </tbody>\n",
              "</table>\n",
              "</div>"
            ],
            "text/plain": [
              "              rating\n",
              "productId           \n",
              "0972683275  4.470980\n",
              "1400501466  3.560000\n",
              "1400501520  4.243902\n",
              "1400501776  3.884892\n",
              "1400532620  3.684211"
            ]
          },
          "execution_count": 78,
          "metadata": {},
          "output_type": "execute_result"
        }
      ],
      "source": [
        "mean_rating_product_count.head()"
      ]
    },
    {
      "cell_type": "code",
      "execution_count": 79,
      "metadata": {
        "colab": {
          "base_uri": "https://localhost:8080/",
          "height": 457
        },
        "id": "hSFTXlmDnbb9",
        "outputId": "5b6adc4a-6d3e-455f-83d0-bd1819ce53dd"
      },
      "outputs": [
        {
          "data": {
            "image/png": "[encoded data removed]",
            "text/plain": [
              "<Figure size 640x480 with 1 Axes>"
            ]
          },
          "metadata": {},
          "output_type": "display_data"
        }
      ],
      "source": [
        "#plot the rating distribution of average rating product\n",
        "plt.hist(mean_rating_product_count['rating'],bins=100)\n",
        "plt.title('Mean Rating distribution')\n",
        "plt.show()"
      ]
    },
    {
      "cell_type": "code",
      "execution_count": 80,
      "metadata": {
        "colab": {
          "base_uri": "https://localhost:8080/"
        },
        "id": "3IbwaVQtnd4X",
        "outputId": "23ce5658-ec72-4b33-fe2e-72b533432bff"
      },
      "outputs": [
        {
          "data": {
            "text/plain": [
              "np.float64(-0.9512537061128555)"
            ]
          },
          "execution_count": 80,
          "metadata": {},
          "output_type": "execute_result"
        }
      ],
      "source": [
        "#check the skewness of the mean rating data\n",
        "mean_rating_product_count['rating'].skew()"
      ]
    },
    {
      "cell_type": "code",
      "execution_count": 81,
      "metadata": {
        "id": "f31zq-BNnhEH"
      },
      "outputs": [],
      "source": [
        "#it is highly negative skewed"
      ]
    },
    {
      "cell_type": "code",
      "execution_count": 82,
      "metadata": {
        "id": "b7X13dEGnjdn"
      },
      "outputs": [],
      "source": [
        "mean_rating_product_count['rating_counts'] = pd.DataFrame(data.groupby('productId')['rating'].count())"
      ]
    },
    {
      "cell_type": "code",
      "execution_count": 83,
      "metadata": {
        "colab": {
          "base_uri": "https://localhost:8080/",
          "height": 238
        },
        "id": "w6xO2Dfgnlm-",
        "outputId": "5bf5016d-d58a-452a-9b68-5bf794e2dc4d"
      },
      "outputs": [
        {
          "data": {
            "text/html": [
              "<div>\n",
              "<style scoped>\n",
              "    .dataframe tbody tr th:only-of-type {\n",
              "        vertical-align: middle;\n",
              "    }\n",
              "\n",
              "    .dataframe tbody tr th {\n",
              "        vertical-align: top;\n",
              "    }\n",
              "\n",
              "    .dataframe thead th {\n",
              "        text-align: right;\n",
              "    }\n",
              "</style>\n",
              "<table border=\"1\" class=\"dataframe\">\n",
              "  <thead>\n",
              "    <tr style=\"text-align: right;\">\n",
              "      <th></th>\n",
              "      <th>rating</th>\n",
              "      <th>rating_counts</th>\n",
              "    </tr>\n",
              "    <tr>\n",
              "      <th>productId</th>\n",
              "      <th></th>\n",
              "      <th></th>\n",
              "    </tr>\n",
              "  </thead>\n",
              "  <tbody>\n",
              "    <tr>\n",
              "      <th>0972683275</th>\n",
              "      <td>4.470980</td>\n",
              "      <td>1051</td>\n",
              "    </tr>\n",
              "    <tr>\n",
              "      <th>1400501466</th>\n",
              "      <td>3.560000</td>\n",
              "      <td>250</td>\n",
              "    </tr>\n",
              "    <tr>\n",
              "      <th>1400501520</th>\n",
              "      <td>4.243902</td>\n",
              "      <td>82</td>\n",
              "    </tr>\n",
              "    <tr>\n",
              "      <th>1400501776</th>\n",
              "      <td>3.884892</td>\n",
              "      <td>139</td>\n",
              "    </tr>\n",
              "    <tr>\n",
              "      <th>1400532620</th>\n",
              "      <td>3.684211</td>\n",
              "      <td>171</td>\n",
              "    </tr>\n",
              "  </tbody>\n",
              "</table>\n",
              "</div>"
            ],
            "text/plain": [
              "              rating  rating_counts\n",
              "productId                          \n",
              "0972683275  4.470980           1051\n",
              "1400501466  3.560000            250\n",
              "1400501520  4.243902             82\n",
              "1400501776  3.884892            139\n",
              "1400532620  3.684211            171"
            ]
          },
          "execution_count": 83,
          "metadata": {},
          "output_type": "execute_result"
        }
      ],
      "source": [
        "mean_rating_product_count.head()"
      ]
    },
    {
      "cell_type": "code",
      "execution_count": 84,
      "metadata": {
        "colab": {
          "base_uri": "https://localhost:8080/",
          "height": 112
        },
        "id": "brJdpb4unn3t",
        "outputId": "3243cd84-e35f-4721-ef08-068920140ce6"
      },
      "outputs": [
        {
          "data": {
            "text/html": [
              "<div>\n",
              "<style scoped>\n",
              "    .dataframe tbody tr th:only-of-type {\n",
              "        vertical-align: middle;\n",
              "    }\n",
              "\n",
              "    .dataframe tbody tr th {\n",
              "        vertical-align: top;\n",
              "    }\n",
              "\n",
              "    .dataframe thead th {\n",
              "        text-align: right;\n",
              "    }\n",
              "</style>\n",
              "<table border=\"1\" class=\"dataframe\">\n",
              "  <thead>\n",
              "    <tr style=\"text-align: right;\">\n",
              "      <th></th>\n",
              "      <th>rating</th>\n",
              "      <th>rating_counts</th>\n",
              "    </tr>\n",
              "    <tr>\n",
              "      <th>productId</th>\n",
              "      <th></th>\n",
              "      <th></th>\n",
              "    </tr>\n",
              "  </thead>\n",
              "  <tbody>\n",
              "    <tr>\n",
              "      <th>B0074BW614</th>\n",
              "      <td>4.491504</td>\n",
              "      <td>18244</td>\n",
              "    </tr>\n",
              "  </tbody>\n",
              "</table>\n",
              "</div>"
            ],
            "text/plain": [
              "              rating  rating_counts\n",
              "productId                          \n",
              "B0074BW614  4.491504          18244"
            ]
          },
          "execution_count": 84,
          "metadata": {},
          "output_type": "execute_result"
        }
      ],
      "source": [
        "#highest mean rating product\n",
        "mean_rating_product_count[mean_rating_product_count['rating_counts']==mean_rating_product_count['rating_counts'].max()]"
      ]
    },
    {
      "cell_type": "code",
      "execution_count": 85,
      "metadata": {
        "colab": {
          "base_uri": "https://localhost:8080/"
        },
        "id": "EJ1jGjwEnqLS",
        "outputId": "94d07e83-0fe5-4c05-bc57-f30ede00ab1c"
      },
      "outputs": [
        {
          "name": "stdout",
          "output_type": "stream",
          "text": [
            "min average rating product :  50\n",
            "total min average rating products :  468\n"
          ]
        }
      ],
      "source": [
        "#min mean rating product\n",
        "print('min average rating product : ',mean_rating_product_count['rating_counts'].min())\n",
        "print('total min average rating products : ',mean_rating_product_count[mean_rating_product_count['rating_counts']==mean_rating_product_count['rating_counts'].min()].shape[0])"
      ]
    },
    {
      "cell_type": "code",
      "execution_count": 86,
      "metadata": {
        "colab": {
          "base_uri": "https://localhost:8080/",
          "height": 457
        },
        "id": "qQyrsZLYns5U",
        "outputId": "e3e3bddd-b0a6-43a7-ab20-d48225a7bc50"
      },
      "outputs": [
        {
          "data": {
            "image/png": "[encoded data removed]",
            "text/plain": [
              "<Figure size 640x480 with 1 Axes>"
            ]
          },
          "metadata": {},
          "output_type": "display_data"
        }
      ],
      "source": [
        "#plot the rating count of mean_rating_product_count\n",
        "plt.hist(mean_rating_product_count['rating_counts'],bins=100)\n",
        "plt.title('rating count distribution')\n",
        "plt.show()"
      ]
    },
    {
      "cell_type": "code",
      "execution_count": 87,
      "metadata": {
        "colab": {
          "base_uri": "https://localhost:8080/",
          "height": 600
        },
        "id": "cM3hiFADnvOp",
        "outputId": "aa2b630b-7713-41ee-d5f1-65b96e0ca9e3"
      },
      "outputs": [
        {
          "data": {
            "image/png": "[encoded data removed]",
            "text/plain": [
              "<Figure size 600x600 with 3 Axes>"
            ]
          },
          "metadata": {},
          "output_type": "display_data"
        }
      ],
      "source": [
        "#joint plot of rating and rating counts\n",
        "sns.jointplot(x='rating',y='rating_counts',data=mean_rating_product_count)\n",
        "plt.title('Joint Plot of rating and rating counts')\n",
        "plt.tight_layout()\n",
        "plt.show()"
      ]
    },
    {
      "cell_type": "code",
      "execution_count": 88,
      "metadata": {
        "colab": {
          "base_uri": "https://localhost:8080/",
          "height": 434
        },
        "id": "5_Uz-ajknx1v",
        "outputId": "0f8bd59f-ca0a-41b1-ee45-23504979125e"
      },
      "outputs": [
        {
          "data": {
            "image/png": "[encoded data removed]",
            "text/plain": [
              "<Figure size 640x480 with 1 Axes>"
            ]
          },
          "metadata": {},
          "output_type": "display_data"
        }
      ],
      "source": [
        "plt.scatter(x=mean_rating_product_count['rating'],y=mean_rating_product_count['rating_counts'])\n",
        "plt.show()"
      ]
    },
    {
      "cell_type": "code",
      "execution_count": 89,
      "metadata": {
        "colab": {
          "base_uri": "https://localhost:8080/"
        },
        "id": "iZl7ZI19n2ku",
        "outputId": "9a338d5c-b990-4bd3-d04e-b83f7caa7e1e"
      },
      "outputs": [
        {
          "name": "stdout",
          "output_type": "stream",
          "text": [
            "Correlation between Rating and Rating Counts is : 0.07358807628426928 \n"
          ]
        }
      ],
      "source": [
        "print('Correlation between Rating and Rating Counts is : {} '.format(mean_rating_product_count['rating'].corr(mean_rating_product_count['rating_counts'])))"
      ]
    },
    {
      "cell_type": "markdown",
      "metadata": {
        "id": "2Kv9T6BR0fOQ"
      },
      "source": [
        "<h1><b><u>Step6 - Developing the Recommendation System</u></b></h1>"
      ]
    },
    {
      "cell_type": "markdown",
      "metadata": {
        "id": "kxWId1ULqOuK"
      },
      "source": [
        "**Collaberative filtering**\n",
        "\n",
        "Collaborative filtering is a technique commonly used in recommendation systems to predict a user's interests by collecting preferences or taste information from many users. The underlying assumption of collaborative filtering is that if users have agreed in the past, they will agree in the future on similar items or products. Collaborative filtering has two sub-categories which are generally called memory-based and model-based approaches."
      ]
    },
    {
      "cell_type": "markdown",
      "metadata": {
        "id": "HjBX4lv9xkAM"
      },
      "source": [
        "<b>Model-based collaborative filtering system</b>\n",
        "These methods are based on machine learning and data mining techniques. The goal is to train models to be able to make predictions. For example, we could use existing user-item interactions to train a model to predict the top-5 items that a user might like the most. One advantage of these methods is that they are able to recommend a larger number of items to a larger number of users, compared to other methods like memory based approach. They have large coverage, even when working with large sparse matrices."
      ]
    },
    {
      "cell_type": "code",
      "execution_count": 90,
      "metadata": {
        "colab": {
          "base_uri": "https://localhost:8080/",
          "height": 287
        },
        "id": "cxhIogKsxnGO",
        "outputId": "e377eb50-5d72-47a6-8c0d-f9409fb9af6c"
      },
      "outputs": [
        {
          "data": {
            "text/html": [
              "<div>\n",
              "<style scoped>\n",
              "    .dataframe tbody tr th:only-of-type {\n",
              "        vertical-align: middle;\n",
              "    }\n",
              "\n",
              "    .dataframe tbody tr th {\n",
              "        vertical-align: top;\n",
              "    }\n",
              "\n",
              "    .dataframe thead th {\n",
              "        text-align: right;\n",
              "    }\n",
              "</style>\n",
              "<table border=\"1\" class=\"dataframe\">\n",
              "  <thead>\n",
              "    <tr style=\"text-align: right;\">\n",
              "      <th>productId</th>\n",
              "      <th>0972683275</th>\n",
              "      <th>1400532620</th>\n",
              "      <th>1400532655</th>\n",
              "      <th>140053271X</th>\n",
              "      <th>1400532736</th>\n",
              "      <th>1400599997</th>\n",
              "      <th>1400698987</th>\n",
              "      <th>3744295508</th>\n",
              "      <th>6301977173</th>\n",
              "      <th>9573212919</th>\n",
              "      <th>...</th>\n",
              "      <th>B00J5O7BMC</th>\n",
              "      <th>B00J8JLOA4</th>\n",
              "      <th>B00JGUR84Q</th>\n",
              "      <th>B00JKCH4X0</th>\n",
              "      <th>B00JSZGTW6</th>\n",
              "      <th>B00JTI4X3E</th>\n",
              "      <th>B00K0OBEE2</th>\n",
              "      <th>B00K4VQZCM</th>\n",
              "      <th>B00K91DB7Y</th>\n",
              "      <th>B00L3YHF6O</th>\n",
              "    </tr>\n",
              "    <tr>\n",
              "      <th>userId</th>\n",
              "      <th></th>\n",
              "      <th></th>\n",
              "      <th></th>\n",
              "      <th></th>\n",
              "      <th></th>\n",
              "      <th></th>\n",
              "      <th></th>\n",
              "      <th></th>\n",
              "      <th></th>\n",
              "      <th></th>\n",
              "      <th></th>\n",
              "      <th></th>\n",
              "      <th></th>\n",
              "      <th></th>\n",
              "      <th></th>\n",
              "      <th></th>\n",
              "      <th></th>\n",
              "      <th></th>\n",
              "      <th></th>\n",
              "      <th></th>\n",
              "      <th></th>\n",
              "    </tr>\n",
              "  </thead>\n",
              "  <tbody>\n",
              "    <tr>\n",
              "      <th>A0047322388NOTO4N8SKD</th>\n",
              "      <td>0.0</td>\n",
              "      <td>0.0</td>\n",
              "      <td>0.0</td>\n",
              "      <td>0.0</td>\n",
              "      <td>0.0</td>\n",
              "      <td>0.0</td>\n",
              "      <td>0.0</td>\n",
              "      <td>0.0</td>\n",
              "      <td>0.0</td>\n",
              "      <td>0.0</td>\n",
              "      <td>...</td>\n",
              "      <td>0.0</td>\n",
              "      <td>0.0</td>\n",
              "      <td>0.0</td>\n",
              "      <td>0.0</td>\n",
              "      <td>0.0</td>\n",
              "      <td>0.0</td>\n",
              "      <td>0.0</td>\n",
              "      <td>0.0</td>\n",
              "      <td>0.0</td>\n",
              "      <td>0.0</td>\n",
              "    </tr>\n",
              "    <tr>\n",
              "      <th>A00970074O1C2N7GKBD8</th>\n",
              "      <td>0.0</td>\n",
              "      <td>0.0</td>\n",
              "      <td>0.0</td>\n",
              "      <td>0.0</td>\n",
              "      <td>0.0</td>\n",
              "      <td>0.0</td>\n",
              "      <td>0.0</td>\n",
              "      <td>0.0</td>\n",
              "      <td>0.0</td>\n",
              "      <td>0.0</td>\n",
              "      <td>...</td>\n",
              "      <td>0.0</td>\n",
              "      <td>0.0</td>\n",
              "      <td>0.0</td>\n",
              "      <td>0.0</td>\n",
              "      <td>0.0</td>\n",
              "      <td>0.0</td>\n",
              "      <td>0.0</td>\n",
              "      <td>0.0</td>\n",
              "      <td>0.0</td>\n",
              "      <td>0.0</td>\n",
              "    </tr>\n",
              "    <tr>\n",
              "      <th>A01037873UQRDOUGJHATT</th>\n",
              "      <td>0.0</td>\n",
              "      <td>0.0</td>\n",
              "      <td>0.0</td>\n",
              "      <td>0.0</td>\n",
              "      <td>0.0</td>\n",
              "      <td>0.0</td>\n",
              "      <td>0.0</td>\n",
              "      <td>0.0</td>\n",
              "      <td>0.0</td>\n",
              "      <td>0.0</td>\n",
              "      <td>...</td>\n",
              "      <td>0.0</td>\n",
              "      <td>0.0</td>\n",
              "      <td>0.0</td>\n",
              "      <td>0.0</td>\n",
              "      <td>0.0</td>\n",
              "      <td>0.0</td>\n",
              "      <td>0.0</td>\n",
              "      <td>0.0</td>\n",
              "      <td>0.0</td>\n",
              "      <td>0.0</td>\n",
              "    </tr>\n",
              "    <tr>\n",
              "      <th>A0148580153CCYEBHHVJ9</th>\n",
              "      <td>0.0</td>\n",
              "      <td>0.0</td>\n",
              "      <td>0.0</td>\n",
              "      <td>0.0</td>\n",
              "      <td>0.0</td>\n",
              "      <td>0.0</td>\n",
              "      <td>0.0</td>\n",
              "      <td>0.0</td>\n",
              "      <td>0.0</td>\n",
              "      <td>0.0</td>\n",
              "      <td>...</td>\n",
              "      <td>0.0</td>\n",
              "      <td>0.0</td>\n",
              "      <td>0.0</td>\n",
              "      <td>0.0</td>\n",
              "      <td>0.0</td>\n",
              "      <td>0.0</td>\n",
              "      <td>0.0</td>\n",
              "      <td>0.0</td>\n",
              "      <td>0.0</td>\n",
              "      <td>0.0</td>\n",
              "    </tr>\n",
              "    <tr>\n",
              "      <th>A01842741JRH81ZPEGH7V</th>\n",
              "      <td>0.0</td>\n",
              "      <td>0.0</td>\n",
              "      <td>0.0</td>\n",
              "      <td>0.0</td>\n",
              "      <td>0.0</td>\n",
              "      <td>0.0</td>\n",
              "      <td>0.0</td>\n",
              "      <td>0.0</td>\n",
              "      <td>0.0</td>\n",
              "      <td>0.0</td>\n",
              "      <td>...</td>\n",
              "      <td>0.0</td>\n",
              "      <td>0.0</td>\n",
              "      <td>0.0</td>\n",
              "      <td>0.0</td>\n",
              "      <td>0.0</td>\n",
              "      <td>0.0</td>\n",
              "      <td>0.0</td>\n",
              "      <td>0.0</td>\n",
              "      <td>0.0</td>\n",
              "      <td>0.0</td>\n",
              "    </tr>\n",
              "  </tbody>\n",
              "</table>\n",
              "<p>5 rows × 10329 columns</p>\n",
              "</div>"
            ],
            "text/plain": [
              "productId              0972683275  1400532620  1400532655  140053271X  \\\n",
              "userId                                                                  \n",
              "A0047322388NOTO4N8SKD         0.0         0.0         0.0         0.0   \n",
              "A00970074O1C2N7GKBD8          0.0         0.0         0.0         0.0   \n",
              "A01037873UQRDOUGJHATT         0.0         0.0         0.0         0.0   \n",
              "A0148580153CCYEBHHVJ9         0.0         0.0         0.0         0.0   \n",
              "A01842741JRH81ZPEGH7V         0.0         0.0         0.0         0.0   \n",
              "\n",
              "productId              1400532736  1400599997  1400698987  3744295508  \\\n",
              "userId                                                                  \n",
              "A0047322388NOTO4N8SKD         0.0         0.0         0.0         0.0   \n",
              "A00970074O1C2N7GKBD8          0.0         0.0         0.0         0.0   \n",
              "A01037873UQRDOUGJHATT         0.0         0.0         0.0         0.0   \n",
              "A0148580153CCYEBHHVJ9         0.0         0.0         0.0         0.0   \n",
              "A01842741JRH81ZPEGH7V         0.0         0.0         0.0         0.0   \n",
              "\n",
              "productId              6301977173  9573212919  ...  B00J5O7BMC  B00J8JLOA4  \\\n",
              "userId                                         ...                           \n",
              "A0047322388NOTO4N8SKD         0.0         0.0  ...         0.0         0.0   \n",
              "A00970074O1C2N7GKBD8          0.0         0.0  ...         0.0         0.0   \n",
              "A01037873UQRDOUGJHATT         0.0         0.0  ...         0.0         0.0   \n",
              "A0148580153CCYEBHHVJ9         0.0         0.0  ...         0.0         0.0   \n",
              "A01842741JRH81ZPEGH7V         0.0         0.0  ...         0.0         0.0   \n",
              "\n",
              "productId              B00JGUR84Q  B00JKCH4X0  B00JSZGTW6  B00JTI4X3E  \\\n",
              "userId                                                                  \n",
              "A0047322388NOTO4N8SKD         0.0         0.0         0.0         0.0   \n",
              "A00970074O1C2N7GKBD8          0.0         0.0         0.0         0.0   \n",
              "A01037873UQRDOUGJHATT         0.0         0.0         0.0         0.0   \n",
              "A0148580153CCYEBHHVJ9         0.0         0.0         0.0         0.0   \n",
              "A01842741JRH81ZPEGH7V         0.0         0.0         0.0         0.0   \n",
              "\n",
              "productId              B00K0OBEE2  B00K4VQZCM  B00K91DB7Y  B00L3YHF6O  \n",
              "userId                                                                 \n",
              "A0047322388NOTO4N8SKD         0.0         0.0         0.0         0.0  \n",
              "A00970074O1C2N7GKBD8          0.0         0.0         0.0         0.0  \n",
              "A01037873UQRDOUGJHATT         0.0         0.0         0.0         0.0  \n",
              "A0148580153CCYEBHHVJ9         0.0         0.0         0.0         0.0  \n",
              "A01842741JRH81ZPEGH7V         0.0         0.0         0.0         0.0  \n",
              "\n",
              "[5 rows x 10329 columns]"
            ]
          },
          "execution_count": 90,
          "metadata": {},
          "output_type": "execute_result"
        }
      ],
      "source": [
        "data2=data.sample(20000)\n",
        "ratings_matrix = data2.pivot_table(values='rating', index='userId', columns='productId', fill_value=0)\n",
        "ratings_matrix.head()"
      ]
    },
    {
      "cell_type": "markdown",
      "metadata": {
        "id": "ActNXrs-xp6y"
      },
      "source": [
        "above we have created a pivot table of the rating where the value of the column will rating and index will be userId and the column name will be productId"
      ]
    },
    {
      "cell_type": "code",
      "execution_count": 91,
      "metadata": {
        "colab": {
          "base_uri": "https://localhost:8080/"
        },
        "id": "XhpZobuQxsgZ",
        "outputId": "0315e6c4-e6cb-4835-8dda-df715b64d5dc"
      },
      "outputs": [
        {
          "data": {
            "text/plain": [
              "(19897, 10329)"
            ]
          },
          "execution_count": 91,
          "metadata": {},
          "output_type": "execute_result"
        }
      ],
      "source": [
        "#check the shape of the rating_matrix\n",
        "ratings_matrix.shape"
      ]
    },
    {
      "cell_type": "code",
      "execution_count": 92,
      "metadata": {
        "colab": {
          "base_uri": "https://localhost:8080/",
          "height": 287
        },
        "id": "cDLt-QTPxu4A",
        "outputId": "36c353ea-4d59-49d4-8172-fefd7fde0c2b"
      },
      "outputs": [
        {
          "data": {
            "text/html": [
              "<div>\n",
              "<style scoped>\n",
              "    .dataframe tbody tr th:only-of-type {\n",
              "        vertical-align: middle;\n",
              "    }\n",
              "\n",
              "    .dataframe tbody tr th {\n",
              "        vertical-align: top;\n",
              "    }\n",
              "\n",
              "    .dataframe thead th {\n",
              "        text-align: right;\n",
              "    }\n",
              "</style>\n",
              "<table border=\"1\" class=\"dataframe\">\n",
              "  <thead>\n",
              "    <tr style=\"text-align: right;\">\n",
              "      <th>userId</th>\n",
              "      <th>A0047322388NOTO4N8SKD</th>\n",
              "      <th>A00970074O1C2N7GKBD8</th>\n",
              "      <th>A01037873UQRDOUGJHATT</th>\n",
              "      <th>A0148580153CCYEBHHVJ9</th>\n",
              "      <th>A01842741JRH81ZPEGH7V</th>\n",
              "      <th>A0240495330JKS21W63UP</th>\n",
              "      <th>A035646122YNXLICZAFCE</th>\n",
              "      <th>A03576872RBWLYJBRACB9</th>\n",
              "      <th>A0469281TKC18XMEWHEN</th>\n",
              "      <th>A0537988267XVX3XN1ZQV</th>\n",
              "      <th>...</th>\n",
              "      <th>AZX7PFFZ6R9OT</th>\n",
              "      <th>AZXHFSO67NPIZ</th>\n",
              "      <th>AZXIOFN3TDXQ1</th>\n",
              "      <th>AZXKG69RR28G4</th>\n",
              "      <th>AZY065T0PVYO7</th>\n",
              "      <th>AZY9H78K5ZK52</th>\n",
              "      <th>AZYBZEVISD0YX</th>\n",
              "      <th>AZZ1QIEWIUC1G</th>\n",
              "      <th>AZZBLQLAQIBZB</th>\n",
              "      <th>AZZVYHVJ8BDUZ</th>\n",
              "    </tr>\n",
              "    <tr>\n",
              "      <th>productId</th>\n",
              "      <th></th>\n",
              "      <th></th>\n",
              "      <th></th>\n",
              "      <th></th>\n",
              "      <th></th>\n",
              "      <th></th>\n",
              "      <th></th>\n",
              "      <th></th>\n",
              "      <th></th>\n",
              "      <th></th>\n",
              "      <th></th>\n",
              "      <th></th>\n",
              "      <th></th>\n",
              "      <th></th>\n",
              "      <th></th>\n",
              "      <th></th>\n",
              "      <th></th>\n",
              "      <th></th>\n",
              "      <th></th>\n",
              "      <th></th>\n",
              "      <th></th>\n",
              "    </tr>\n",
              "  </thead>\n",
              "  <tbody>\n",
              "    <tr>\n",
              "      <th>0972683275</th>\n",
              "      <td>0.0</td>\n",
              "      <td>0.0</td>\n",
              "      <td>0.0</td>\n",
              "      <td>0.0</td>\n",
              "      <td>0.0</td>\n",
              "      <td>0.0</td>\n",
              "      <td>0.0</td>\n",
              "      <td>0.0</td>\n",
              "      <td>0.0</td>\n",
              "      <td>0.0</td>\n",
              "      <td>...</td>\n",
              "      <td>0.0</td>\n",
              "      <td>0.0</td>\n",
              "      <td>0.0</td>\n",
              "      <td>0.0</td>\n",
              "      <td>0.0</td>\n",
              "      <td>0.0</td>\n",
              "      <td>0.0</td>\n",
              "      <td>0.0</td>\n",
              "      <td>0.0</td>\n",
              "      <td>0.0</td>\n",
              "    </tr>\n",
              "    <tr>\n",
              "      <th>1400532620</th>\n",
              "      <td>0.0</td>\n",
              "      <td>0.0</td>\n",
              "      <td>0.0</td>\n",
              "      <td>0.0</td>\n",
              "      <td>0.0</td>\n",
              "      <td>0.0</td>\n",
              "      <td>0.0</td>\n",
              "      <td>0.0</td>\n",
              "      <td>0.0</td>\n",
              "      <td>0.0</td>\n",
              "      <td>...</td>\n",
              "      <td>0.0</td>\n",
              "      <td>0.0</td>\n",
              "      <td>0.0</td>\n",
              "      <td>0.0</td>\n",
              "      <td>0.0</td>\n",
              "      <td>0.0</td>\n",
              "      <td>0.0</td>\n",
              "      <td>0.0</td>\n",
              "      <td>0.0</td>\n",
              "      <td>0.0</td>\n",
              "    </tr>\n",
              "    <tr>\n",
              "      <th>1400532655</th>\n",
              "      <td>0.0</td>\n",
              "      <td>0.0</td>\n",
              "      <td>0.0</td>\n",
              "      <td>0.0</td>\n",
              "      <td>0.0</td>\n",
              "      <td>0.0</td>\n",
              "      <td>0.0</td>\n",
              "      <td>0.0</td>\n",
              "      <td>0.0</td>\n",
              "      <td>0.0</td>\n",
              "      <td>...</td>\n",
              "      <td>0.0</td>\n",
              "      <td>0.0</td>\n",
              "      <td>0.0</td>\n",
              "      <td>0.0</td>\n",
              "      <td>0.0</td>\n",
              "      <td>0.0</td>\n",
              "      <td>0.0</td>\n",
              "      <td>0.0</td>\n",
              "      <td>0.0</td>\n",
              "      <td>0.0</td>\n",
              "    </tr>\n",
              "    <tr>\n",
              "      <th>140053271X</th>\n",
              "      <td>0.0</td>\n",
              "      <td>0.0</td>\n",
              "      <td>0.0</td>\n",
              "      <td>0.0</td>\n",
              "      <td>0.0</td>\n",
              "      <td>0.0</td>\n",
              "      <td>0.0</td>\n",
              "      <td>0.0</td>\n",
              "      <td>0.0</td>\n",
              "      <td>0.0</td>\n",
              "      <td>...</td>\n",
              "      <td>0.0</td>\n",
              "      <td>0.0</td>\n",
              "      <td>0.0</td>\n",
              "      <td>0.0</td>\n",
              "      <td>0.0</td>\n",
              "      <td>0.0</td>\n",
              "      <td>0.0</td>\n",
              "      <td>0.0</td>\n",
              "      <td>0.0</td>\n",
              "      <td>0.0</td>\n",
              "    </tr>\n",
              "    <tr>\n",
              "      <th>1400532736</th>\n",
              "      <td>0.0</td>\n",
              "      <td>0.0</td>\n",
              "      <td>0.0</td>\n",
              "      <td>0.0</td>\n",
              "      <td>0.0</td>\n",
              "      <td>0.0</td>\n",
              "      <td>0.0</td>\n",
              "      <td>0.0</td>\n",
              "      <td>0.0</td>\n",
              "      <td>0.0</td>\n",
              "      <td>...</td>\n",
              "      <td>0.0</td>\n",
              "      <td>0.0</td>\n",
              "      <td>0.0</td>\n",
              "      <td>0.0</td>\n",
              "      <td>0.0</td>\n",
              "      <td>0.0</td>\n",
              "      <td>0.0</td>\n",
              "      <td>0.0</td>\n",
              "      <td>0.0</td>\n",
              "      <td>0.0</td>\n",
              "    </tr>\n",
              "  </tbody>\n",
              "</table>\n",
              "<p>5 rows × 19897 columns</p>\n",
              "</div>"
            ],
            "text/plain": [
              "userId      A0047322388NOTO4N8SKD  A00970074O1C2N7GKBD8  \\\n",
              "productId                                                 \n",
              "0972683275                    0.0                   0.0   \n",
              "1400532620                    0.0                   0.0   \n",
              "1400532655                    0.0                   0.0   \n",
              "140053271X                    0.0                   0.0   \n",
              "1400532736                    0.0                   0.0   \n",
              "\n",
              "userId      A01037873UQRDOUGJHATT  A0148580153CCYEBHHVJ9  \\\n",
              "productId                                                  \n",
              "0972683275                    0.0                    0.0   \n",
              "1400532620                    0.0                    0.0   \n",
              "1400532655                    0.0                    0.0   \n",
              "140053271X                    0.0                    0.0   \n",
              "1400532736                    0.0                    0.0   \n",
              "\n",
              "userId      A01842741JRH81ZPEGH7V  A0240495330JKS21W63UP  \\\n",
              "productId                                                  \n",
              "0972683275                    0.0                    0.0   \n",
              "1400532620                    0.0                    0.0   \n",
              "1400532655                    0.0                    0.0   \n",
              "140053271X                    0.0                    0.0   \n",
              "1400532736                    0.0                    0.0   \n",
              "\n",
              "userId      A035646122YNXLICZAFCE  A03576872RBWLYJBRACB9  \\\n",
              "productId                                                  \n",
              "0972683275                    0.0                    0.0   \n",
              "1400532620                    0.0                    0.0   \n",
              "1400532655                    0.0                    0.0   \n",
              "140053271X                    0.0                    0.0   \n",
              "1400532736                    0.0                    0.0   \n",
              "\n",
              "userId      A0469281TKC18XMEWHEN  A0537988267XVX3XN1ZQV  ...  AZX7PFFZ6R9OT  \\\n",
              "productId                                                ...                  \n",
              "0972683275                   0.0                    0.0  ...            0.0   \n",
              "1400532620                   0.0                    0.0  ...            0.0   \n",
              "1400532655                   0.0                    0.0  ...            0.0   \n",
              "140053271X                   0.0                    0.0  ...            0.0   \n",
              "1400532736                   0.0                    0.0  ...            0.0   \n",
              "\n",
              "userId      AZXHFSO67NPIZ  AZXIOFN3TDXQ1  AZXKG69RR28G4  AZY065T0PVYO7  \\\n",
              "productId                                                                \n",
              "0972683275            0.0            0.0            0.0            0.0   \n",
              "1400532620            0.0            0.0            0.0            0.0   \n",
              "1400532655            0.0            0.0            0.0            0.0   \n",
              "140053271X            0.0            0.0            0.0            0.0   \n",
              "1400532736            0.0            0.0            0.0            0.0   \n",
              "\n",
              "userId      AZY9H78K5ZK52  AZYBZEVISD0YX  AZZ1QIEWIUC1G  AZZBLQLAQIBZB  \\\n",
              "productId                                                                \n",
              "0972683275            0.0            0.0            0.0            0.0   \n",
              "1400532620            0.0            0.0            0.0            0.0   \n",
              "1400532655            0.0            0.0            0.0            0.0   \n",
              "140053271X            0.0            0.0            0.0            0.0   \n",
              "1400532736            0.0            0.0            0.0            0.0   \n",
              "\n",
              "userId      AZZVYHVJ8BDUZ  \n",
              "productId                  \n",
              "0972683275            0.0  \n",
              "1400532620            0.0  \n",
              "1400532655            0.0  \n",
              "140053271X            0.0  \n",
              "1400532736            0.0  \n",
              "\n",
              "[5 rows x 19897 columns]"
            ]
          },
          "execution_count": 92,
          "metadata": {},
          "output_type": "execute_result"
        }
      ],
      "source": [
        "#transpose the metrix to make column (productId) as index and index as column (userId)\n",
        "x_ratings_matrix=ratings_matrix.T\n",
        "x_ratings_matrix.head()"
      ]
    },
    {
      "cell_type": "code",
      "execution_count": 93,
      "metadata": {
        "colab": {
          "base_uri": "https://localhost:8080/"
        },
        "id": "ffjeSU-exyxz",
        "outputId": "99f977bc-3bc8-4f41-b58f-80a62543e538"
      },
      "outputs": [
        {
          "data": {
            "text/plain": [
              "(10329, 19897)"
            ]
          },
          "execution_count": 93,
          "metadata": {},
          "output_type": "execute_result"
        }
      ],
      "source": [
        "x_ratings_matrix.shape"
      ]
    },
    {
      "cell_type": "code",
      "execution_count": 94,
      "metadata": {
        "colab": {
          "base_uri": "https://localhost:8080/"
        },
        "id": "Vd7HEWn2x1J4",
        "outputId": "b8b07978-d931-4bc0-ed7a-933838d4deac"
      },
      "outputs": [
        {
          "data": {
            "text/plain": [
              "(10329, 10)"
            ]
          },
          "execution_count": 94,
          "metadata": {},
          "output_type": "execute_result"
        }
      ],
      "source": [
        "#Decomposition of the matrix using Singular Value Decomposition technique\n",
        "from sklearn.decomposition import TruncatedSVD\n",
        "SVD = TruncatedSVD(n_components=10)\n",
        "decomposed_matrix = SVD.fit_transform(x_ratings_matrix)\n",
        "decomposed_matrix.shape"
      ]
    },
    {
      "cell_type": "code",
      "execution_count": 95,
      "metadata": {
        "colab": {
          "base_uri": "https://localhost:8080/"
        },
        "id": "VPvWJWYRx3nb",
        "outputId": "09893a45-8976-40cf-a81a-5b0dc5c99a22"
      },
      "outputs": [
        {
          "data": {
            "text/plain": [
              "(10329, 10329)"
            ]
          },
          "execution_count": 95,
          "metadata": {},
          "output_type": "execute_result"
        }
      ],
      "source": [
        "#Correlation Matrix\n",
        "correlation_matrix = np.corrcoef(decomposed_matrix)\n",
        "correlation_matrix.shape"
      ]
    },
    {
      "cell_type": "code",
      "execution_count": 96,
      "metadata": {
        "colab": {
          "base_uri": "https://localhost:8080/",
          "height": 35
        },
        "id": "fcI33peUx5wz",
        "outputId": "686c698e-ca31-47bc-c7ef-1b942284296f"
      },
      "outputs": [
        {
          "data": {
            "text/plain": [
              "'9625993428'"
            ]
          },
          "execution_count": 96,
          "metadata": {},
          "output_type": "execute_result"
        }
      ],
      "source": [
        "x_ratings_matrix.index[10]"
      ]
    },
    {
      "cell_type": "code",
      "execution_count": 97,
      "metadata": {
        "colab": {
          "base_uri": "https://localhost:8080/"
        },
        "id": "G7WJJbgsx83T",
        "outputId": "198d8c71-e292-4b87-a771-ae75554ac440"
      },
      "outputs": [
        {
          "name": "stdout",
          "output_type": "stream",
          "text": [
            "38\n"
          ]
        }
      ],
      "source": [
        "i=\"B00001P4ZH\"\n",
        "product_names=list(x_ratings_matrix.index)\n",
        "product_id=product_names.index(i)\n",
        "print(product_id)"
      ]
    },
    {
      "cell_type": "markdown",
      "metadata": {
        "id": "dq_bJo5ByAp3"
      },
      "source": [
        "Correlation for all items with the item purchased by this customer based on items rated by other customers people who bought the same product"
      ]
    },
    {
      "cell_type": "code",
      "execution_count": 98,
      "metadata": {
        "colab": {
          "base_uri": "https://localhost:8080/"
        },
        "id": "kL7FUYTiyC6w",
        "outputId": "2317d8d2-cc6c-4118-e06a-18365e7cdde3"
      },
      "outputs": [
        {
          "data": {
            "text/plain": [
              "(10329,)"
            ]
          },
          "execution_count": 98,
          "metadata": {},
          "output_type": "execute_result"
        }
      ],
      "source": [
        "correlation_product_ID = correlation_matrix[product_id]\n",
        "correlation_product_ID.shape"
      ]
    },
    {
      "cell_type": "code",
      "execution_count": 99,
      "metadata": {
        "colab": {
          "base_uri": "https://localhost:8080/"
        },
        "id": "cpE0CzvmyE1U",
        "outputId": "4bcdfde4-0483-4095-d8ba-e1c3dac4a474"
      },
      "outputs": [
        {
          "data": {
            "text/plain": [
              "(123, 10329)"
            ]
          },
          "execution_count": 99,
          "metadata": {},
          "output_type": "execute_result"
        }
      ],
      "source": [
        "correlation_matrix[correlation_product_ID>0.75].shape"
      ]
    },
    {
      "cell_type": "code",
      "execution_count": 100,
      "metadata": {
        "colab": {
          "base_uri": "https://localhost:8080/"
        },
        "id": "dmyg18kCyHQZ",
        "outputId": "8143636e-2587-4780-c697-33ca9af60177"
      },
      "outputs": [
        {
          "data": {
            "text/plain": [
              "['B00001P4ZH',\n",
              " 'B000067RC1',\n",
              " 'B00007GQLU',\n",
              " 'B000085BD8',\n",
              " 'B00009R6VZ',\n",
              " 'B0000CG4DI',\n",
              " 'B00013M6NK',\n",
              " 'B0001H9L3O',\n",
              " 'B00025742A',\n",
              " 'B0002A9SJ2',\n",
              " 'B0002K6Y9E',\n",
              " 'B0002XQDSS',\n",
              " 'B000BUN79K',\n",
              " 'B000CQ73PW',\n",
              " 'B000EOOU6M',\n",
              " 'B000ETXOC8',\n",
              " 'B000ETY3LO',\n",
              " 'B000FCSWX0',\n",
              " 'B000FV8P24',\n",
              " 'B000HHYEKI']"
            ]
          },
          "execution_count": 100,
          "metadata": {},
          "output_type": "execute_result"
        }
      ],
      "source": [
        "#Recommending top 20 highly correlated products in sequence\n",
        "recommend = list(x_ratings_matrix.index[correlation_product_ID > 0.75])\n",
        "recommend[:20]"
      ]
    },
    {
      "cell_type": "markdown",
      "metadata": {
        "id": "BcPIdACQ1UQC"
      },
      "source": [
        "Product Id # Here are the top 20 products to be displayed by the recommendation system to the above customer based on the purchase history of other customers in the website."
      ]
    }
  ],
  "metadata": {
    "colab": {
      "provenance": []
    },
    "kernelspec": {
      "display_name": "Python 3",
      "name": "python3"
    },
    "language_info": {
      "codemirror_mode": {
        "name": "ipython",
        "version": 3
      },
      "file_extension": ".py",
      "mimetype": "text/x-python",
      "name": "python",
      "nbconvert_exporter": "python",
      "pygments_lexer": "ipython3",
      "version": "3.12.6"
    }
  },
  "nbformat": 4,
  "nbformat_minor": 0
}
